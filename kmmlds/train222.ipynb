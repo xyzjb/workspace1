{
 "cells": [
  {
   "cell_type": "code",
   "execution_count": null,
   "metadata": {},
   "outputs": [],
   "source": [
    "import argparse\n",
    "import sys\n",
    "import json\n",
    "import os\n",
    "# parser = argparse.ArgumentParser(description='Returns sum of two arguments')\n",
    "# parser.add_argument(\"--env\", type=str, required=True)\n",
    "# args = parser.parse_args()\n",
    "# parameter1=args.env\n",
    "par1=os.environ.get(\"--masterid\")\n",
    "par2=os.environ.get(\"--datasetname\")\n",
    "#print(par1)\n",
    "#par1='abcde0001'\n",
    "\n",
    "%run train222.py --masterid $par1 --datasetname $datasetname"
   ]
  }
 ],
 "metadata": {
  "kernelspec": {
   "display_name": "Python 3",
   "language": "python",
   "name": "python3"
  },
  "language_info": {
   "codemirror_mode": {
    "name": "ipython",
    "version": 3
   },
   "file_extension": ".py",
   "mimetype": "text/x-python",
   "name": "python",
   "nbconvert_exporter": "python",
   "pygments_lexer": "ipython3",
   "version": "3.7.3"
  }
 },
 "nbformat": 4,
 "nbformat_minor": 4
}
