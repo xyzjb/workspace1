{
 "cells": [
  {
   "cell_type": "code",
   "execution_count": 3,
   "metadata": {},
   "outputs": [
    {
     "name": "stdout",
     "output_type": "stream",
     "text": [
      "       sequence  x_basic_hour  x_basic_horizon  i_set     ec_ws       ec_wd  \\\n",
      "0             0             0                0      0  5.584500  221.910030   \n",
      "1             1             1                1      0  5.054566  217.496700   \n",
      "2             2             2                2      0  4.524633  213.083310   \n",
      "3             3             3                3      0  3.994700  208.669980   \n",
      "4             4             4                4      0  4.593200  209.386660   \n",
      "...         ...           ...              ...    ...       ...         ...   \n",
      "25995     25995             1               25    530  4.302400   62.014343   \n",
      "25996     25996             2               26    530  4.089700   66.159670   \n",
      "25997     25997             3               27    530  3.877000   70.304990   \n",
      "25998     25998             4               28    530  3.926867   79.114320   \n",
      "25999     25999             5               29    530  3.976733   87.923676   \n",
      "\n",
      "          ec_tmp    ec_press    ec_rho  ec_dist  gfs_ws      gfs_wd  gfs_tmp  \\\n",
      "0      27.827000   995.48000  1.152237     12.0  5.6870  218.539980   29.450   \n",
      "1      28.667000   995.42000  1.148961     13.0  6.0588  220.270020   30.399   \n",
      "2      29.507000   995.36000  1.145703     14.0  5.9294  221.650020   31.112   \n",
      "3      30.347000   995.30000  1.142463     15.0  5.5855  220.580020   31.835   \n",
      "4      30.279000   994.96330  1.142332     16.0  5.5985  218.669980   32.095   \n",
      "...          ...         ...       ...      ...     ...         ...      ...   \n",
      "25995  17.557000  1013.93335  1.215056     37.0  3.1154   79.311005   18.939   \n",
      "25996  19.829000  1013.96670  1.205673     38.0  4.6775   86.687010   20.896   \n",
      "25997  22.101000  1014.00000  1.196435     39.0  5.0979   86.398010   22.119   \n",
      "25998  22.696667  1012.80000  1.192613     40.0  5.0857   88.199005   22.956   \n",
      "25999  23.292334  1011.60004  1.188806     41.0  5.0510   96.510010   23.460   \n",
      "\n",
      "       gfs_press   gfs_rho  gfs_dist    speed    power  \n",
      "0         987.24  1.136570      12.0  5.54689  14922.8  \n",
      "1         987.41  1.133212      13.0  5.44701  14333.7  \n",
      "2         987.39  1.130534      14.0  5.84705  16944.4  \n",
      "3         987.45  1.127922      15.0  8.42103  48099.9  \n",
      "4         987.22  1.126699      16.0  7.45263  33362.3  \n",
      "...          ...       ...       ...      ...      ...  \n",
      "25995    1007.50  1.201634      37.0  4.88051  10740.7  \n",
      "25996    1007.80  1.193992      38.0  3.56416  3848.38  \n",
      "25997    1007.40  1.188575      39.0  2.68259  632.572  \n",
      "25998    1006.40  1.184039      40.0  2.43743  315.227  \n",
      "25999    1005.30  1.180735      41.0    3.005  1229.55  \n",
      "\n",
      "[26000 rows x 18 columns]\n"
     ]
    }
   ],
   "source": [
    "import argparse\n",
    "import sys\n",
    "import json\n",
    "import os\n",
    "# parser = argparse.ArgumentParser(description='Returns sum of two arguments')\n",
    "# parser.add_argument(\"--env\", type=str, required=True)\n",
    "# args = parser.parse_args()\n",
    "# parameter1=args.env\n",
    "par1=os.environ.get(\"--masterid\")\n",
    "#print(par1)\n",
    "par1='abcde0001'\n",
    "\n",
    "%run train2.py --masterid $par1"
   ]
  },
  {
   "cell_type": "code",
   "execution_count": null,
   "metadata": {},
   "outputs": [],
   "source": []
  }
 ],
 "metadata": {
  "kernelspec": {
   "display_name": "Python 3",
   "language": "python",
   "name": "python3"
  },
  "language_info": {
   "codemirror_mode": {
    "name": "ipython",
    "version": 3
   },
   "file_extension": ".py",
   "mimetype": "text/x-python",
   "name": "python",
   "nbconvert_exporter": "python",
   "pygments_lexer": "ipython3",
   "version": "3.7.6"
  }
 },
 "nbformat": 4,
 "nbformat_minor": 4
}
