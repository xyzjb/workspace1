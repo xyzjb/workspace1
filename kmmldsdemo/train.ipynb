{
 "cells": [
  {
   "cell_type": "code",
   "execution_count": 7,
   "metadata": {},
   "outputs": [
    {
     "name": "stdout",
     "output_type": "stream",
     "text": [
      "masterid: CGNWF0046 <class 'str'>\n",
      "953c4dd82afd04d85868bbc4b8e72ad20e96b234c459ffee98ff02e404b3c124\n",
      "Elasticnet model (alpha=0.500000, l1_ratio=0.500000):\n",
      "  RMSE: 18129.67082494513\n",
      "  MAE: 13970.393693191776\n",
      "  R2: -6.226889426515442\n"
     ]
    }
   ],
   "source": [
    "import argparse\n",
    "import sys\n",
    "import json\n",
    "import os\n",
    "# parser = argparse.ArgumentParser(description='Returns sum of two arguments')\n",
    "# parser.add_argument(\"--env\", type=str, required=True)\n",
    "# args = parser.parse_args()\n",
    "# parameter1=args.env\n",
    "par1=os.environ.get(\"--masterid\")\n",
    "print(par1)\n",
    "\n",
    "%run train.py --masterid $par1"
   ]
  }
 ],
 "metadata": {
  "kernelspec": {
   "display_name": "Python 3",
   "language": "python",
   "name": "python3"
  },
  "language_info": {
   "codemirror_mode": {
    "name": "ipython",
    "version": 3
   },
   "file_extension": ".py",
   "mimetype": "text/x-python",
   "name": "python",
   "nbconvert_exporter": "python",
   "pygments_lexer": "ipython3",
   "version": "3.7.6"
  }
 },
 "nbformat": 4,
 "nbformat_minor": 4
}
